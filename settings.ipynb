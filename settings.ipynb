{
 "cells": [
  {
   "cell_type": "markdown",
   "metadata": {},
   "source": [
    "## Python Version"
   ]
  },
  {
   "cell_type": "code",
   "execution_count": 6,
   "metadata": {},
   "outputs": [
    {
     "name": "stdout",
     "output_type": "stream",
     "text": [
      "Python 3.8.0\n"
     ]
    }
   ],
   "source": [
    "!python --version"
   ]
  },
  {
   "cell_type": "markdown",
   "metadata": {},
   "source": [
    "## Verwendete Python-Module"
   ]
  },
  {
   "cell_type": "code",
   "execution_count": 9,
   "metadata": {},
   "outputs": [
    {
     "name": "stdout",
     "output_type": "stream",
     "text": [
      "Package            Version     \n",
      "------------------ ------------\n",
      "appnope            0.1.0       \n",
      "attrs              19.3.0      \n",
      "backcall           0.1.0       \n",
      "bleach             3.1.4       \n",
      "cycler             0.10.0      \n",
      "decorator          4.4.2       \n",
      "defusedxml         0.6.0       \n",
      "entrypoints        0.3         \n",
      "ipykernel          5.2.0       \n",
      "ipython            7.13.0      \n",
      "ipython-genutils   0.2.0       \n",
      "ipywidgets         7.5.1       \n",
      "jedi               0.16.0      \n",
      "Jinja2             2.11.1      \n",
      "joblib             0.14.1      \n",
      "jsonschema         3.2.0       \n",
      "jupyter            1.0.0       \n",
      "jupyter-client     6.1.2       \n",
      "jupyter-console    6.1.0       \n",
      "jupyter-core       4.6.3       \n",
      "kiwisolver         1.1.0       \n",
      "MarkupSafe         1.1.1       \n",
      "matplotlib         3.2.1       \n",
      "mistune            0.8.4       \n",
      "nbconvert          5.6.1       \n",
      "nbformat           5.0.4       \n",
      "notebook           6.0.3       \n",
      "numpy              1.18.2      \n",
      "pandas             1.0.3       \n",
      "pandocfilters      1.4.2       \n",
      "parso              0.6.2       \n",
      "pexpect            4.8.0       \n",
      "pickleshare        0.7.5       \n",
      "pip                19.0.3      \n",
      "prometheus-client  0.7.1       \n",
      "prompt-toolkit     3.0.5       \n",
      "ptyprocess         0.6.0       \n",
      "Pygments           2.6.1       \n",
      "pyparsing          2.4.6       \n",
      "pyrsistent         0.16.0      \n",
      "python-dateutil    2.8.1       \n",
      "pytz               2019.3      \n",
      "pyzmq              19.0.0      \n",
      "qtconsole          4.7.2       \n",
      "QtPy               1.9.0       \n",
      "scikit-learn       0.22.2.post1\n",
      "scipy              1.4.1       \n",
      "seaborn            0.10.0      \n",
      "Send2Trash         1.5.0       \n",
      "setuptools         40.8.0      \n",
      "six                1.14.0      \n",
      "terminado          0.8.3       \n",
      "testpath           0.4.4       \n",
      "tornado            6.0.4       \n",
      "traitlets          4.3.3       \n",
      "wcwidth            0.1.9       \n",
      "webencodings       0.5.1       \n",
      "widgetsnbextension 3.5.1       \n"
     ]
    }
   ],
   "source": [
    "!pip list"
   ]
  },
  {
   "cell_type": "code",
   "execution_count": 7,
   "metadata": {},
   "outputs": [],
   "source": [
    "#!pip3 freeze > requirements.txt"
   ]
  },
  {
   "cell_type": "markdown",
   "metadata": {},
   "source": [
    "## Installieren der benötigten Python-Module"
   ]
  },
  {
   "cell_type": "code",
   "execution_count": 4,
   "metadata": {},
   "outputs": [],
   "source": [
    "#!pip3 install numpy matplotlib pandas scikit-learn seaborn "
   ]
  },
  {
   "cell_type": "code",
   "execution_count": 8,
   "metadata": {},
   "outputs": [],
   "source": [
    "#!pip3 install --upgrade -r requirements.txt"
   ]
  },
  {
   "cell_type": "code",
   "execution_count": null,
   "metadata": {},
   "outputs": [],
   "source": []
  }
 ],
 "metadata": {
  "kernelspec": {
   "display_name": "Python 3",
   "language": "python",
   "name": "python3"
  },
  "language_info": {
   "codemirror_mode": {
    "name": "ipython",
    "version": 3
   },
   "file_extension": ".py",
   "mimetype": "text/x-python",
   "name": "python",
   "nbconvert_exporter": "python",
   "pygments_lexer": "ipython3",
   "version": "3.8.0"
  }
 },
 "nbformat": 4,
 "nbformat_minor": 4
}
